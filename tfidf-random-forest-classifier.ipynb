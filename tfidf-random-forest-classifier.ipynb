{
 "cells": [
  {
   "cell_type": "code",
   "execution_count": 1,
   "id": "828f0216",
   "metadata": {
    "execution": {
     "iopub.execute_input": "2022-03-15T01:23:55.389616Z",
     "iopub.status.busy": "2022-03-15T01:23:55.388379Z",
     "iopub.status.idle": "2022-03-15T01:23:57.581692Z",
     "shell.execute_reply": "2022-03-15T01:23:57.580407Z",
     "shell.execute_reply.started": "2022-02-28T21:24:14.622417Z"
    },
    "papermill": {
     "duration": 2.230461,
     "end_time": "2022-03-15T01:23:57.581952",
     "exception": false,
     "start_time": "2022-03-15T01:23:55.351491",
     "status": "completed"
    },
    "tags": []
   },
   "outputs": [],
   "source": [
    "import pandas as pd\n",
    "import numpy as np\n",
    "import re\n",
    "import os\n",
    "import matplotlib.pyplot as plt\n",
    "import seaborn as sns\n",
    "\n",
    "from sklearn.feature_extraction.text import TfidfVectorizer\n",
    "from sklearn.model_selection import KFold\n",
    "from sklearn.ensemble import RandomForestClassifier\n",
    "from sklearn.model_selection import cross_val_score\n",
    "\n",
    "import nltk\n",
    "from nltk.corpus import stopwords\n",
    "from nltk.stem import SnowballStemmer\n",
    "from string import punctuation\n",
    "from nltk.stem.wordnet import WordNetLemmatizer\n",
    "from tqdm import tqdm\n",
    "\n",
    "%matplotlib inline"
   ]
  },
  {
   "cell_type": "code",
   "execution_count": 2,
   "id": "7dd739c0",
   "metadata": {
    "execution": {
     "iopub.execute_input": "2022-03-15T01:23:57.650967Z",
     "iopub.status.busy": "2022-03-15T01:23:57.650227Z",
     "iopub.status.idle": "2022-03-15T01:23:59.495969Z",
     "shell.execute_reply": "2022-03-15T01:23:59.495262Z",
     "shell.execute_reply.started": "2022-02-28T21:22:49.505412Z"
    },
    "papermill": {
     "duration": 1.879657,
     "end_time": "2022-03-15T01:23:59.496133",
     "exception": false,
     "start_time": "2022-03-15T01:23:57.616476",
     "status": "completed"
    },
    "tags": []
   },
   "outputs": [
    {
     "data": {
      "text/plain": [
       "(144293, 8)"
      ]
     },
     "execution_count": 2,
     "metadata": {},
     "output_type": "execute_result"
    }
   ],
   "source": [
    "train = pd.read_csv('../input/feedback-prize-2021/train.csv')\n",
    "train.shape"
   ]
  },
  {
   "cell_type": "code",
   "execution_count": 3,
   "id": "f8f35e9d",
   "metadata": {
    "execution": {
     "iopub.execute_input": "2022-03-15T01:23:59.567973Z",
     "iopub.status.busy": "2022-03-15T01:23:59.567277Z",
     "iopub.status.idle": "2022-03-15T01:23:59.589928Z",
     "shell.execute_reply": "2022-03-15T01:23:59.590433Z",
     "shell.execute_reply.started": "2022-02-28T21:22:51.457589Z"
    },
    "papermill": {
     "duration": 0.061648,
     "end_time": "2022-03-15T01:23:59.590633",
     "exception": false,
     "start_time": "2022-03-15T01:23:59.528985",
     "status": "completed"
    },
    "tags": []
   },
   "outputs": [
    {
     "data": {
      "text/html": [
       "<div>\n",
       "<style scoped>\n",
       "    .dataframe tbody tr th:only-of-type {\n",
       "        vertical-align: middle;\n",
       "    }\n",
       "\n",
       "    .dataframe tbody tr th {\n",
       "        vertical-align: top;\n",
       "    }\n",
       "\n",
       "    .dataframe thead th {\n",
       "        text-align: right;\n",
       "    }\n",
       "</style>\n",
       "<table border=\"1\" class=\"dataframe\">\n",
       "  <thead>\n",
       "    <tr style=\"text-align: right;\">\n",
       "      <th></th>\n",
       "      <th>id</th>\n",
       "      <th>discourse_id</th>\n",
       "      <th>discourse_start</th>\n",
       "      <th>discourse_end</th>\n",
       "      <th>discourse_text</th>\n",
       "      <th>discourse_type</th>\n",
       "      <th>discourse_type_num</th>\n",
       "      <th>predictionstring</th>\n",
       "    </tr>\n",
       "  </thead>\n",
       "  <tbody>\n",
       "    <tr>\n",
       "      <th>0</th>\n",
       "      <td>423A1CA112E2</td>\n",
       "      <td>1.622628e+12</td>\n",
       "      <td>8.0</td>\n",
       "      <td>229.0</td>\n",
       "      <td>Modern humans today are always on their phone....</td>\n",
       "      <td>Lead</td>\n",
       "      <td>Lead 1</td>\n",
       "      <td>1 2 3 4 5 6 7 8 9 10 11 12 13 14 15 16 17 18 1...</td>\n",
       "    </tr>\n",
       "    <tr>\n",
       "      <th>1</th>\n",
       "      <td>423A1CA112E2</td>\n",
       "      <td>1.622628e+12</td>\n",
       "      <td>230.0</td>\n",
       "      <td>312.0</td>\n",
       "      <td>They are some really bad consequences when stu...</td>\n",
       "      <td>Position</td>\n",
       "      <td>Position 1</td>\n",
       "      <td>45 46 47 48 49 50 51 52 53 54 55 56 57 58 59</td>\n",
       "    </tr>\n",
       "    <tr>\n",
       "      <th>2</th>\n",
       "      <td>423A1CA112E2</td>\n",
       "      <td>1.622628e+12</td>\n",
       "      <td>313.0</td>\n",
       "      <td>401.0</td>\n",
       "      <td>Some certain areas in the United States ban ph...</td>\n",
       "      <td>Evidence</td>\n",
       "      <td>Evidence 1</td>\n",
       "      <td>60 61 62 63 64 65 66 67 68 69 70 71 72 73 74 75</td>\n",
       "    </tr>\n",
       "    <tr>\n",
       "      <th>3</th>\n",
       "      <td>423A1CA112E2</td>\n",
       "      <td>1.622628e+12</td>\n",
       "      <td>402.0</td>\n",
       "      <td>758.0</td>\n",
       "      <td>When people have phones, they know about certa...</td>\n",
       "      <td>Evidence</td>\n",
       "      <td>Evidence 2</td>\n",
       "      <td>76 77 78 79 80 81 82 83 84 85 86 87 88 89 90 9...</td>\n",
       "    </tr>\n",
       "    <tr>\n",
       "      <th>4</th>\n",
       "      <td>423A1CA112E2</td>\n",
       "      <td>1.622628e+12</td>\n",
       "      <td>759.0</td>\n",
       "      <td>886.0</td>\n",
       "      <td>Driving is one of the way how to get around. P...</td>\n",
       "      <td>Claim</td>\n",
       "      <td>Claim 1</td>\n",
       "      <td>139 140 141 142 143 144 145 146 147 148 149 15...</td>\n",
       "    </tr>\n",
       "  </tbody>\n",
       "</table>\n",
       "</div>"
      ],
      "text/plain": [
       "             id  discourse_id  discourse_start  discourse_end  \\\n",
       "0  423A1CA112E2  1.622628e+12              8.0          229.0   \n",
       "1  423A1CA112E2  1.622628e+12            230.0          312.0   \n",
       "2  423A1CA112E2  1.622628e+12            313.0          401.0   \n",
       "3  423A1CA112E2  1.622628e+12            402.0          758.0   \n",
       "4  423A1CA112E2  1.622628e+12            759.0          886.0   \n",
       "\n",
       "                                      discourse_text discourse_type  \\\n",
       "0  Modern humans today are always on their phone....           Lead   \n",
       "1  They are some really bad consequences when stu...       Position   \n",
       "2  Some certain areas in the United States ban ph...       Evidence   \n",
       "3  When people have phones, they know about certa...       Evidence   \n",
       "4  Driving is one of the way how to get around. P...          Claim   \n",
       "\n",
       "  discourse_type_num                                   predictionstring  \n",
       "0             Lead 1  1 2 3 4 5 6 7 8 9 10 11 12 13 14 15 16 17 18 1...  \n",
       "1         Position 1       45 46 47 48 49 50 51 52 53 54 55 56 57 58 59  \n",
       "2         Evidence 1    60 61 62 63 64 65 66 67 68 69 70 71 72 73 74 75  \n",
       "3         Evidence 2  76 77 78 79 80 81 82 83 84 85 86 87 88 89 90 9...  \n",
       "4            Claim 1  139 140 141 142 143 144 145 146 147 148 149 15...  "
      ]
     },
     "execution_count": 3,
     "metadata": {},
     "output_type": "execute_result"
    }
   ],
   "source": [
    "train.head()"
   ]
  },
  {
   "cell_type": "code",
   "execution_count": 4,
   "id": "e7abe28f",
   "metadata": {
    "execution": {
     "iopub.execute_input": "2022-03-15T01:23:59.696672Z",
     "iopub.status.busy": "2022-03-15T01:23:59.688305Z",
     "iopub.status.idle": "2022-03-15T01:24:00.108406Z",
     "shell.execute_reply": "2022-03-15T01:24:00.108952Z",
     "shell.execute_reply.started": "2022-02-28T21:22:52.05894Z"
    },
    "papermill": {
     "duration": 0.486703,
     "end_time": "2022-03-15T01:24:00.109177",
     "exception": false,
     "start_time": "2022-03-15T01:23:59.622474",
     "status": "completed"
    },
    "tags": []
   },
   "outputs": [
    {
     "data": {
      "text/plain": [
       "<AxesSubplot:xlabel='discourse_type', ylabel='count'>"
      ]
     },
     "execution_count": 4,
     "metadata": {},
     "output_type": "execute_result"
    },
    {
     "data": {
      "image/png": "[encoded data removed]",
      "text/plain": [
       "<Figure size 864x576 with 1 Axes>"
      ]
     },
     "metadata": {
      "needs_background": "light"
     },
     "output_type": "display_data"
    }
   ],
   "source": [
    "plt.figure(figsize=(12,8))\n",
    "sns.countplot(x='discourse_type', data=train)"
   ]
  },
  {
   "cell_type": "code",
   "execution_count": 5,
   "id": "1a64960d",
   "metadata": {
    "execution": {
     "iopub.execute_input": "2022-03-15T01:24:00.183719Z",
     "iopub.status.busy": "2022-03-15T01:24:00.182688Z",
     "iopub.status.idle": "2022-03-15T01:24:00.186033Z",
     "shell.execute_reply": "2022-03-15T01:24:00.185322Z",
     "shell.execute_reply.started": "2022-02-28T19:20:58.32421Z"
    },
    "papermill": {
     "duration": 0.044073,
     "end_time": "2022-03-15T01:24:00.186202",
     "exception": false,
     "start_time": "2022-03-15T01:24:00.142129",
     "status": "completed"
    },
    "tags": []
   },
   "outputs": [],
   "source": [
    "# def generate_test_df():\n",
    "#     test_dir = \"../input/feedback-prize-2021/train\"\n",
    "#     test_files = os.listdir(test_dir)\n",
    "    \n",
    "#     test_names = []\n",
    "#     test_texts = []\n",
    "#     for f in os.listdir(test_dir):\n",
    "#         test_names.append(f.replace('.txt', ''))\n",
    "#         test_texts.append(open(test_dir+'/'+f, 'r').read())\n",
    "        \n",
    "#     test_texts = pd.DataFrame({'id':test_names, 'text':test_texts})\n",
    "    \n",
    "#     discourse_id = []\n",
    "#     discourse_text = []\n",
    "#     discourse_start =[] \n",
    "#     discourse_end = []\n",
    "#     predictionstring = []\n",
    "#     for text in range(len(test_texts.text)):\n",
    "#         doc = test_texts.text[text]\n",
    "#         paras = re.split(r'[.]\\n',doc)\n",
    "#         start = 0\n",
    "#         for para in paras:\n",
    "#             positions = re.findall(r'\\w+[.]', para)\n",
    "#             if len(positions) <=2 :\n",
    "#                 txts = re.split(r'[.]\\s',para)\n",
    "#                 for i in txts:\n",
    "#                     discourse_text.append(i)\n",
    "#                     length = len(i.split())\n",
    "#                     end = start + length\n",
    "#                     l = list(range(start+1,end+1 ))\n",
    "#                     l = [str(j) for j in l]\n",
    "#                     l = ' '.join(l)\n",
    "#                     predictionstring.append(l)\n",
    "#                     discourse_start.append(start+1)\n",
    "#                     discourse_end.append(end)\n",
    "#                     discourse_id.append(test_texts.id[text])\n",
    "#                     start += length\n",
    "\n",
    "#             else: \n",
    "#                 if len(positions)%2 == 0:\n",
    "#                     split_pos = int(len(positions)/2)\n",
    "#                     split_word = positions[split_pos]\n",
    "#                 else :\n",
    "#                     split_pos = int((len(positions)+1)/2)\n",
    "#                     split_word = positions[split_pos]\n",
    "\n",
    "#                 words = para.split(' ')\n",
    "#                 position = words.index(split_word)\n",
    "#                 part1 = words[:position]\n",
    "#                 part2 = words[position:]\n",
    "#                 part1 = ' '.join(part1)\n",
    "#                 part2 = ' '.join(part2)\n",
    "#                 parts = [part1 ,part2]\n",
    "#                 for i in parts:\n",
    "#                     discourse_text.append(i)\n",
    "#                     length = len(i.split())\n",
    "#                     end = start + length\n",
    "#                     l = list(range(start+1,end+1 ))\n",
    "#                     l = [str(k) for k in l]\n",
    "#                     l = ' '.join(l)\n",
    "#                     predictionstring.append(l)\n",
    "#                     discourse_start.append(start+1)\n",
    "#                     discourse_end.append(end)\n",
    "#                     discourse_id.append(test_texts.id[text])\n",
    "#                     start += length\n",
    "\n",
    "#     testing_data =pd.DataFrame() \n",
    "#     testing_data['discourse_id'] =discourse_id\n",
    "#     testing_data['discourse_text'] = discourse_text\n",
    "#     testing_data['discourse_start'] = discourse_start\n",
    "#     testing_data['discourse_end'] = discourse_end\n",
    "#     testing_data['predictionstring'] = predictionstring\n",
    "#     return testing_data\n"
   ]
  },
  {
   "cell_type": "code",
   "execution_count": 6,
   "id": "77af1f06",
   "metadata": {
    "execution": {
     "iopub.execute_input": "2022-03-15T01:24:00.257552Z",
     "iopub.status.busy": "2022-03-15T01:24:00.256847Z",
     "iopub.status.idle": "2022-03-15T01:24:00.259985Z",
     "shell.execute_reply": "2022-03-15T01:24:00.259242Z",
     "shell.execute_reply.started": "2022-02-28T19:21:00.017359Z"
    },
    "papermill": {
     "duration": 0.040488,
     "end_time": "2022-03-15T01:24:00.260166",
     "exception": false,
     "start_time": "2022-03-15T01:24:00.219678",
     "status": "completed"
    },
    "tags": []
   },
   "outputs": [],
   "source": [
    "# test = generate_test_df()\n",
    "# test.head()"
   ]
  },
  {
   "cell_type": "code",
   "execution_count": 7,
   "id": "ce614d6f",
   "metadata": {
    "execution": {
     "iopub.execute_input": "2022-03-15T01:24:00.336698Z",
     "iopub.status.busy": "2022-03-15T01:24:00.335956Z",
     "iopub.status.idle": "2022-03-15T01:24:00.338922Z",
     "shell.execute_reply": "2022-03-15T01:24:00.338321Z",
     "shell.execute_reply.started": "2022-02-28T21:23:53.65875Z"
    },
    "papermill": {
     "duration": 0.045865,
     "end_time": "2022-03-15T01:24:00.339096",
     "exception": false,
     "start_time": "2022-03-15T01:24:00.293231",
     "status": "completed"
    },
    "tags": []
   },
   "outputs": [],
   "source": [
    "TEST_PATH = \"../input/feedback-prize-2021/test\"\n",
    "\n",
    "def get_test_text(a_id):\n",
    "    a_file = f\"{TEST_PATH}/{a_id}.txt\"\n",
    "    with open(a_file, \"r\") as fp:\n",
    "        txt = fp.read()\n",
    "    return txt\n",
    "\n",
    "def create_df_test():\n",
    "    test_ids = [f[:-4] for f in os.listdir(TEST_PATH)] #Remove the last 4 characters ('.txt') in the filenames such as '0FB0700DAF44.txt'.\n",
    "    test_data = []\n",
    "    for test_id in test_ids:\n",
    "        text = get_test_text(test_id)\n",
    "        sentences = nltk.sent_tokenize(text)\n",
    "        id_sentences = []\n",
    "        idx = 0 \n",
    "        for sentence in sentences:\n",
    "            id_sentence = []\n",
    "            words = sentence.split()\n",
    "            # I created this heuristic for mapping words in sentences to \"word indices\"\n",
    "            # This is not definitive and might have strong drawbacks and problems\n",
    "            for w in words:\n",
    "                id_sentence.append(idx)\n",
    "                idx+=1\n",
    "            id_sentences.append(id_sentence)\n",
    "        test_data += list(zip([test_id] * len(sentences), sentences, id_sentences))\n",
    "    df_test = pd.DataFrame(test_data, columns=['id', 'discourse_text', 'ids'])\n",
    "    return df_test"
   ]
  },
  {
   "cell_type": "code",
   "execution_count": 8,
   "id": "94994330",
   "metadata": {
    "execution": {
     "iopub.execute_input": "2022-03-15T01:24:00.413687Z",
     "iopub.status.busy": "2022-03-15T01:24:00.412830Z",
     "iopub.status.idle": "2022-03-15T01:24:00.473314Z",
     "shell.execute_reply": "2022-03-15T01:24:00.472721Z",
     "shell.execute_reply.started": "2022-02-28T21:24:25.7541Z"
    },
    "papermill": {
     "duration": 0.101405,
     "end_time": "2022-03-15T01:24:00.473523",
     "exception": false,
     "start_time": "2022-03-15T01:24:00.372118",
     "status": "completed"
    },
    "tags": []
   },
   "outputs": [
    {
     "data": {
      "text/html": [
       "<div>\n",
       "<style scoped>\n",
       "    .dataframe tbody tr th:only-of-type {\n",
       "        vertical-align: middle;\n",
       "    }\n",
       "\n",
       "    .dataframe tbody tr th {\n",
       "        vertical-align: top;\n",
       "    }\n",
       "\n",
       "    .dataframe thead th {\n",
       "        text-align: right;\n",
       "    }\n",
       "</style>\n",
       "<table border=\"1\" class=\"dataframe\">\n",
       "  <thead>\n",
       "    <tr style=\"text-align: right;\">\n",
       "      <th></th>\n",
       "      <th>id</th>\n",
       "      <th>discourse_text</th>\n",
       "      <th>ids</th>\n",
       "    </tr>\n",
       "  </thead>\n",
       "  <tbody>\n",
       "    <tr>\n",
       "      <th>0</th>\n",
       "      <td>0FB0700DAF44</td>\n",
       "      <td>During a group project, have you ever asked a ...</td>\n",
       "      <td>[0, 1, 2, 3, 4, 5, 6, 7, 8, 9, 10, 11, 12, 13,...</td>\n",
       "    </tr>\n",
       "    <tr>\n",
       "      <th>1</th>\n",
       "      <td>0FB0700DAF44</td>\n",
       "      <td>Or, when you were studying for a math test, di...</td>\n",
       "      <td>[16, 17, 18, 19, 20, 21, 22, 23, 24, 25, 26, 2...</td>\n",
       "    </tr>\n",
       "    <tr>\n",
       "      <th>2</th>\n",
       "      <td>0FB0700DAF44</td>\n",
       "      <td>Asking for other's opinions is especially bene...</td>\n",
       "      <td>[41, 42, 43, 44, 45, 46, 47, 48, 49, 50, 51, 5...</td>\n",
       "    </tr>\n",
       "    <tr>\n",
       "      <th>3</th>\n",
       "      <td>0FB0700DAF44</td>\n",
       "      <td>Likewise, being diverse and asking many people...</td>\n",
       "      <td>[65, 66, 67, 68, 69, 70, 71, 72, 73, 74, 75, 7...</td>\n",
       "    </tr>\n",
       "    <tr>\n",
       "      <th>4</th>\n",
       "      <td>0FB0700DAF44</td>\n",
       "      <td>This is especially important as knowing multip...</td>\n",
       "      <td>[84, 85, 86, 87, 88, 89, 90, 91, 92, 93, 94, 9...</td>\n",
       "    </tr>\n",
       "  </tbody>\n",
       "</table>\n",
       "</div>"
      ],
      "text/plain": [
       "             id                                     discourse_text  \\\n",
       "0  0FB0700DAF44  During a group project, have you ever asked a ...   \n",
       "1  0FB0700DAF44  Or, when you were studying for a math test, di...   \n",
       "2  0FB0700DAF44  Asking for other's opinions is especially bene...   \n",
       "3  0FB0700DAF44  Likewise, being diverse and asking many people...   \n",
       "4  0FB0700DAF44  This is especially important as knowing multip...   \n",
       "\n",
       "                                                 ids  \n",
       "0  [0, 1, 2, 3, 4, 5, 6, 7, 8, 9, 10, 11, 12, 13,...  \n",
       "1  [16, 17, 18, 19, 20, 21, 22, 23, 24, 25, 26, 2...  \n",
       "2  [41, 42, 43, 44, 45, 46, 47, 48, 49, 50, 51, 5...  \n",
       "3  [65, 66, 67, 68, 69, 70, 71, 72, 73, 74, 75, 7...  \n",
       "4  [84, 85, 86, 87, 88, 89, 90, 91, 92, 93, 94, 9...  "
      ]
     },
     "execution_count": 8,
     "metadata": {},
     "output_type": "execute_result"
    }
   ],
   "source": [
    "df_test = create_df_test()\n",
    "df_test.head()"
   ]
  },
  {
   "cell_type": "code",
   "execution_count": 9,
   "id": "4fb32482",
   "metadata": {
    "execution": {
     "iopub.execute_input": "2022-03-15T01:24:00.558779Z",
     "iopub.status.busy": "2022-03-15T01:24:00.558067Z",
     "iopub.status.idle": "2022-03-15T01:24:00.561030Z",
     "shell.execute_reply": "2022-03-15T01:24:00.561537Z",
     "shell.execute_reply.started": "2022-02-28T21:24:35.923954Z"
    },
    "papermill": {
     "duration": 0.053593,
     "end_time": "2022-03-15T01:24:00.561734",
     "exception": false,
     "start_time": "2022-03-15T01:24:00.508141",
     "status": "completed"
    },
    "tags": []
   },
   "outputs": [
    {
     "data": {
      "text/html": [
       "<div>\n",
       "<style scoped>\n",
       "    .dataframe tbody tr th:only-of-type {\n",
       "        vertical-align: middle;\n",
       "    }\n",
       "\n",
       "    .dataframe tbody tr th {\n",
       "        vertical-align: top;\n",
       "    }\n",
       "\n",
       "    .dataframe thead th {\n",
       "        text-align: right;\n",
       "    }\n",
       "</style>\n",
       "<table border=\"1\" class=\"dataframe\">\n",
       "  <thead>\n",
       "    <tr style=\"text-align: right;\">\n",
       "      <th></th>\n",
       "      <th>id</th>\n",
       "      <th>discourse_text</th>\n",
       "      <th>ids</th>\n",
       "      <th>predictionstring</th>\n",
       "    </tr>\n",
       "  </thead>\n",
       "  <tbody>\n",
       "    <tr>\n",
       "      <th>0</th>\n",
       "      <td>0FB0700DAF44</td>\n",
       "      <td>During a group project, have you ever asked a ...</td>\n",
       "      <td>[0, 1, 2, 3, 4, 5, 6, 7, 8, 9, 10, 11, 12, 13,...</td>\n",
       "      <td>0 1 2 3 4 5 6 7 8 9 10 11 12 13 14 15</td>\n",
       "    </tr>\n",
       "    <tr>\n",
       "      <th>1</th>\n",
       "      <td>0FB0700DAF44</td>\n",
       "      <td>Or, when you were studying for a math test, di...</td>\n",
       "      <td>[16, 17, 18, 19, 20, 21, 22, 23, 24, 25, 26, 2...</td>\n",
       "      <td>16 17 18 19 20 21 22 23 24 25 26 27 28 29 30 3...</td>\n",
       "    </tr>\n",
       "    <tr>\n",
       "      <th>2</th>\n",
       "      <td>0FB0700DAF44</td>\n",
       "      <td>Asking for other's opinions is especially bene...</td>\n",
       "      <td>[41, 42, 43, 44, 45, 46, 47, 48, 49, 50, 51, 5...</td>\n",
       "      <td>41 42 43 44 45 46 47 48 49 50 51 52 53 54 55 5...</td>\n",
       "    </tr>\n",
       "    <tr>\n",
       "      <th>3</th>\n",
       "      <td>0FB0700DAF44</td>\n",
       "      <td>Likewise, being diverse and asking many people...</td>\n",
       "      <td>[65, 66, 67, 68, 69, 70, 71, 72, 73, 74, 75, 7...</td>\n",
       "      <td>65 66 67 68 69 70 71 72 73 74 75 76 77 78 79 8...</td>\n",
       "    </tr>\n",
       "    <tr>\n",
       "      <th>4</th>\n",
       "      <td>0FB0700DAF44</td>\n",
       "      <td>This is especially important as knowing multip...</td>\n",
       "      <td>[84, 85, 86, 87, 88, 89, 90, 91, 92, 93, 94, 9...</td>\n",
       "      <td>84 85 86 87 88 89 90 91 92 93 94 95 96 97 98 9...</td>\n",
       "    </tr>\n",
       "  </tbody>\n",
       "</table>\n",
       "</div>"
      ],
      "text/plain": [
       "             id                                     discourse_text  \\\n",
       "0  0FB0700DAF44  During a group project, have you ever asked a ...   \n",
       "1  0FB0700DAF44  Or, when you were studying for a math test, di...   \n",
       "2  0FB0700DAF44  Asking for other's opinions is especially bene...   \n",
       "3  0FB0700DAF44  Likewise, being diverse and asking many people...   \n",
       "4  0FB0700DAF44  This is especially important as knowing multip...   \n",
       "\n",
       "                                                 ids  \\\n",
       "0  [0, 1, 2, 3, 4, 5, 6, 7, 8, 9, 10, 11, 12, 13,...   \n",
       "1  [16, 17, 18, 19, 20, 21, 22, 23, 24, 25, 26, 2...   \n",
       "2  [41, 42, 43, 44, 45, 46, 47, 48, 49, 50, 51, 5...   \n",
       "3  [65, 66, 67, 68, 69, 70, 71, 72, 73, 74, 75, 7...   \n",
       "4  [84, 85, 86, 87, 88, 89, 90, 91, 92, 93, 94, 9...   \n",
       "\n",
       "                                    predictionstring  \n",
       "0              0 1 2 3 4 5 6 7 8 9 10 11 12 13 14 15  \n",
       "1  16 17 18 19 20 21 22 23 24 25 26 27 28 29 30 3...  \n",
       "2  41 42 43 44 45 46 47 48 49 50 51 52 53 54 55 5...  \n",
       "3  65 66 67 68 69 70 71 72 73 74 75 76 77 78 79 8...  \n",
       "4  84 85 86 87 88 89 90 91 92 93 94 95 96 97 98 9...  "
      ]
     },
     "execution_count": 9,
     "metadata": {},
     "output_type": "execute_result"
    }
   ],
   "source": [
    "df_test['predictionstring'] = df_test['ids'].apply(lambda x: ' '.join([str(i) for i in x]))\n",
    "df_test.head()"
   ]
  },
  {
   "cell_type": "code",
   "execution_count": 10,
   "id": "89416516",
   "metadata": {
    "execution": {
     "iopub.execute_input": "2022-03-15T01:24:00.637088Z",
     "iopub.status.busy": "2022-03-15T01:24:00.633168Z",
     "iopub.status.idle": "2022-03-15T01:24:00.639897Z",
     "shell.execute_reply": "2022-03-15T01:24:00.639250Z",
     "shell.execute_reply.started": "2022-02-28T21:24:47.908006Z"
    },
    "papermill": {
     "duration": 0.044483,
     "end_time": "2022-03-15T01:24:00.640060",
     "exception": false,
     "start_time": "2022-03-15T01:24:00.595577",
     "status": "completed"
    },
    "tags": []
   },
   "outputs": [],
   "source": [
    "df_test = df_test.drop('ids', axis=1)"
   ]
  },
  {
   "cell_type": "code",
   "execution_count": 11,
   "id": "371af188",
   "metadata": {
    "execution": {
     "iopub.execute_input": "2022-03-15T01:24:00.718133Z",
     "iopub.status.busy": "2022-03-15T01:24:00.717415Z",
     "iopub.status.idle": "2022-03-15T01:24:00.721530Z",
     "shell.execute_reply": "2022-03-15T01:24:00.720982Z",
     "shell.execute_reply.started": "2022-02-28T21:24:57.009586Z"
    },
    "papermill": {
     "duration": 0.047992,
     "end_time": "2022-03-15T01:24:00.721698",
     "exception": false,
     "start_time": "2022-03-15T01:24:00.673706",
     "status": "completed"
    },
    "tags": []
   },
   "outputs": [
    {
     "data": {
      "text/html": [
       "<div>\n",
       "<style scoped>\n",
       "    .dataframe tbody tr th:only-of-type {\n",
       "        vertical-align: middle;\n",
       "    }\n",
       "\n",
       "    .dataframe tbody tr th {\n",
       "        vertical-align: top;\n",
       "    }\n",
       "\n",
       "    .dataframe thead th {\n",
       "        text-align: right;\n",
       "    }\n",
       "</style>\n",
       "<table border=\"1\" class=\"dataframe\">\n",
       "  <thead>\n",
       "    <tr style=\"text-align: right;\">\n",
       "      <th></th>\n",
       "      <th>id</th>\n",
       "      <th>discourse_text</th>\n",
       "      <th>predictionstring</th>\n",
       "    </tr>\n",
       "  </thead>\n",
       "  <tbody>\n",
       "    <tr>\n",
       "      <th>0</th>\n",
       "      <td>0FB0700DAF44</td>\n",
       "      <td>During a group project, have you ever asked a ...</td>\n",
       "      <td>0 1 2 3 4 5 6 7 8 9 10 11 12 13 14 15</td>\n",
       "    </tr>\n",
       "    <tr>\n",
       "      <th>1</th>\n",
       "      <td>0FB0700DAF44</td>\n",
       "      <td>Or, when you were studying for a math test, di...</td>\n",
       "      <td>16 17 18 19 20 21 22 23 24 25 26 27 28 29 30 3...</td>\n",
       "    </tr>\n",
       "    <tr>\n",
       "      <th>2</th>\n",
       "      <td>0FB0700DAF44</td>\n",
       "      <td>Asking for other's opinions is especially bene...</td>\n",
       "      <td>41 42 43 44 45 46 47 48 49 50 51 52 53 54 55 5...</td>\n",
       "    </tr>\n",
       "    <tr>\n",
       "      <th>3</th>\n",
       "      <td>0FB0700DAF44</td>\n",
       "      <td>Likewise, being diverse and asking many people...</td>\n",
       "      <td>65 66 67 68 69 70 71 72 73 74 75 76 77 78 79 8...</td>\n",
       "    </tr>\n",
       "    <tr>\n",
       "      <th>4</th>\n",
       "      <td>0FB0700DAF44</td>\n",
       "      <td>This is especially important as knowing multip...</td>\n",
       "      <td>84 85 86 87 88 89 90 91 92 93 94 95 96 97 98 9...</td>\n",
       "    </tr>\n",
       "  </tbody>\n",
       "</table>\n",
       "</div>"
      ],
      "text/plain": [
       "             id                                     discourse_text  \\\n",
       "0  0FB0700DAF44  During a group project, have you ever asked a ...   \n",
       "1  0FB0700DAF44  Or, when you were studying for a math test, di...   \n",
       "2  0FB0700DAF44  Asking for other's opinions is especially bene...   \n",
       "3  0FB0700DAF44  Likewise, being diverse and asking many people...   \n",
       "4  0FB0700DAF44  This is especially important as knowing multip...   \n",
       "\n",
       "                                    predictionstring  \n",
       "0              0 1 2 3 4 5 6 7 8 9 10 11 12 13 14 15  \n",
       "1  16 17 18 19 20 21 22 23 24 25 26 27 28 29 30 3...  \n",
       "2  41 42 43 44 45 46 47 48 49 50 51 52 53 54 55 5...  \n",
       "3  65 66 67 68 69 70 71 72 73 74 75 76 77 78 79 8...  \n",
       "4  84 85 86 87 88 89 90 91 92 93 94 95 96 97 98 9...  "
      ]
     },
     "execution_count": 11,
     "metadata": {},
     "output_type": "execute_result"
    }
   ],
   "source": [
    "df_test.head()"
   ]
  },
  {
   "cell_type": "code",
   "execution_count": 12,
   "id": "20c09625",
   "metadata": {
    "execution": {
     "iopub.execute_input": "2022-03-15T01:24:00.799106Z",
     "iopub.status.busy": "2022-03-15T01:24:00.798399Z",
     "iopub.status.idle": "2022-03-15T01:24:00.833260Z",
     "shell.execute_reply": "2022-03-15T01:24:00.832574Z",
     "shell.execute_reply.started": "2022-02-28T21:25:17.665791Z"
    },
    "papermill": {
     "duration": 0.076262,
     "end_time": "2022-03-15T01:24:00.833432",
     "exception": false,
     "start_time": "2022-03-15T01:24:00.757170",
     "status": "completed"
    },
    "tags": []
   },
   "outputs": [],
   "source": [
    "df = train.append(df_test)"
   ]
  },
  {
   "cell_type": "markdown",
   "id": "c15dcbd1",
   "metadata": {
    "papermill": {
     "duration": 0.034314,
     "end_time": "2022-03-15T01:24:00.902685",
     "exception": false,
     "start_time": "2022-03-15T01:24:00.868371",
     "status": "completed"
    },
    "tags": []
   },
   "source": [
    "## Preprocessing"
   ]
  },
  {
   "cell_type": "code",
   "execution_count": 13,
   "id": "f23e4e95",
   "metadata": {
    "execution": {
     "iopub.execute_input": "2022-03-15T01:24:00.981503Z",
     "iopub.status.busy": "2022-03-15T01:24:00.980726Z",
     "iopub.status.idle": "2022-03-15T01:24:00.989450Z",
     "shell.execute_reply": "2022-03-15T01:24:00.988711Z",
     "shell.execute_reply.started": "2022-02-28T21:25:19.611449Z"
    },
    "papermill": {
     "duration": 0.052344,
     "end_time": "2022-03-15T01:24:00.989627",
     "exception": false,
     "start_time": "2022-03-15T01:24:00.937283",
     "status": "completed"
    },
    "tags": []
   },
   "outputs": [],
   "source": [
    "def clean_text(text, remove_stopwords=True, stem_words=False, lemma=True):\n",
    "    text = str(text).lower().split()\n",
    "    \n",
    "    if remove_stopwords:\n",
    "        stops = stopwords.words(\"english\")\n",
    "        text = [x for x in text if not x in stops]\n",
    "        \n",
    "    text = ' '.join(text)\n",
    "    \n",
    "    text = re.sub(r\"[-()\\\"#/<>!@&;*:<>{}`'+=~%|.!?,_]\", \" \", text)\n",
    "    text = re.sub(r\"\\]\", \" \", text)\n",
    "    text = re.sub(r\"\\[\", \" \", text)\n",
    "    text = re.sub(r\"\\/\", \" \", text)\n",
    "    text = re.sub(r\"\\\\\", \" \", text)\n",
    "    text = re.sub(r\"\\'ve\", \" have \", text)\n",
    "    text = re.sub(r\"can't\", \"cannot \", text)\n",
    "    text = re.sub(r\"n't\", \" not \", text)\n",
    "    text = re.sub(r\"\\'re\", \" are \", text)\n",
    "    text = re.sub(r\"\\'d\", \" would \", text)\n",
    "    text = re.sub(r\"\\'ll\", \" will \", text)\n",
    "    text = re.sub(r\"  \", \" \", text)\n",
    "    text = re.sub(r\"   \", \" \", text)\n",
    "    text = re.sub(r\"   \", \" \", text)\n",
    "    text = re.sub(r\"0x00\", \"\", text)\n",
    "    \n",
    "    if stem_words:\n",
    "        text = text.split()\n",
    "        stemmer = SnowballStemmer('english')\n",
    "        stem_words = [stemmer.stem(x) for x in text]\n",
    "        text = \" \".join(text)\n",
    "        \n",
    "    if lemma:\n",
    "        text = text.split()\n",
    "        lem = WordNetLemmatizer()\n",
    "        lemmatized = [lem.lemmatize(x, \"v\") for x in text]\n",
    "        text = \" \".join(text)\n",
    "        \n",
    "    return text"
   ]
  },
  {
   "cell_type": "code",
   "execution_count": 14,
   "id": "68cfe66d",
   "metadata": {
    "execution": {
     "iopub.execute_input": "2022-03-15T01:24:01.063351Z",
     "iopub.status.busy": "2022-03-15T01:24:01.062658Z",
     "iopub.status.idle": "2022-03-15T01:25:01.109563Z",
     "shell.execute_reply": "2022-03-15T01:25:01.110231Z",
     "shell.execute_reply.started": "2022-02-28T21:25:22.990706Z"
    },
    "papermill": {
     "duration": 60.085794,
     "end_time": "2022-03-15T01:25:01.110481",
     "exception": false,
     "start_time": "2022-03-15T01:24:01.024687",
     "status": "completed"
    },
    "tags": []
   },
   "outputs": [
    {
     "name": "stdout",
     "output_type": "stream",
     "text": [
      "CPU times: user 57.1 s, sys: 2.85 s, total: 60 s\n",
      "Wall time: 1min\n"
     ]
    }
   ],
   "source": [
    "%%time\n",
    "df['cleaned_text'] = df.discourse_text.apply(clean_text)"
   ]
  },
  {
   "cell_type": "code",
   "execution_count": 15,
   "id": "c4fbda01",
   "metadata": {
    "execution": {
     "iopub.execute_input": "2022-03-15T01:25:01.192663Z",
     "iopub.status.busy": "2022-03-15T01:25:01.189119Z",
     "iopub.status.idle": "2022-03-15T01:25:01.197091Z",
     "shell.execute_reply": "2022-03-15T01:25:01.196471Z",
     "shell.execute_reply.started": "2022-02-28T21:26:28.548591Z"
    },
    "papermill": {
     "duration": 0.048282,
     "end_time": "2022-03-15T01:25:01.197272",
     "exception": false,
     "start_time": "2022-03-15T01:25:01.148990",
     "status": "completed"
    },
    "tags": []
   },
   "outputs": [
    {
     "data": {
      "text/plain": [
       "'Modern humans today are always on their phone. They are always on their phone more than 5 hours a day no stop .All they do is text back and forward and just have group Chats on social media. They even do it while driving.'"
      ]
     },
     "execution_count": 15,
     "metadata": {},
     "output_type": "execute_result"
    }
   ],
   "source": [
    "df.iloc[0]['discourse_text']"
   ]
  },
  {
   "cell_type": "code",
   "execution_count": 16,
   "id": "bd395d69",
   "metadata": {
    "execution": {
     "iopub.execute_input": "2022-03-15T01:25:01.279547Z",
     "iopub.status.busy": "2022-03-15T01:25:01.278561Z",
     "iopub.status.idle": "2022-03-15T01:25:01.283235Z",
     "shell.execute_reply": "2022-03-15T01:25:01.282640Z",
     "shell.execute_reply.started": "2022-02-28T21:26:28.557329Z"
    },
    "papermill": {
     "duration": 0.049061,
     "end_time": "2022-03-15T01:25:01.283399",
     "exception": false,
     "start_time": "2022-03-15T01:25:01.234338",
     "status": "completed"
    },
    "tags": []
   },
   "outputs": [
    {
     "data": {
      "text/plain": [
       "'modern humans today always phone always phone 5 hours day stop all text back forward group chats social media even driving'"
      ]
     },
     "execution_count": 16,
     "metadata": {},
     "output_type": "execute_result"
    }
   ],
   "source": [
    "df.iloc[0]['cleaned_text']"
   ]
  },
  {
   "cell_type": "markdown",
   "id": "b789841d",
   "metadata": {
    "papermill": {
     "duration": 0.035367,
     "end_time": "2022-03-15T01:25:01.356603",
     "exception": false,
     "start_time": "2022-03-15T01:25:01.321236",
     "status": "completed"
    },
    "tags": []
   },
   "source": [
    "## TFIDF Vectorizer"
   ]
  },
  {
   "cell_type": "code",
   "execution_count": 17,
   "id": "2fc13128",
   "metadata": {
    "execution": {
     "iopub.execute_input": "2022-03-15T01:25:01.454066Z",
     "iopub.status.busy": "2022-03-15T01:25:01.453006Z",
     "iopub.status.idle": "2022-03-15T01:25:05.401387Z",
     "shell.execute_reply": "2022-03-15T01:25:05.400744Z",
     "shell.execute_reply.started": "2022-02-28T21:26:33.83816Z"
    },
    "papermill": {
     "duration": 4.008991,
     "end_time": "2022-03-15T01:25:05.401563",
     "exception": false,
     "start_time": "2022-03-15T01:25:01.392572",
     "status": "completed"
    },
    "tags": []
   },
   "outputs": [
    {
     "data": {
      "text/plain": [
       "TfidfVectorizer(max_features=1000, token_pattern='\\\\w{1,}')"
      ]
     },
     "execution_count": 17,
     "metadata": {},
     "output_type": "execute_result"
    }
   ],
   "source": [
    "tfidf_vect = TfidfVectorizer(analyzer='word', token_pattern=r'\\w{1,}', max_features=1000)\n",
    "tfidf_vect.fit(df['cleaned_text'])"
   ]
  },
  {
   "cell_type": "code",
   "execution_count": 18,
   "id": "0940a635",
   "metadata": {
    "execution": {
     "iopub.execute_input": "2022-03-15T01:25:05.485479Z",
     "iopub.status.busy": "2022-03-15T01:25:05.484719Z",
     "iopub.status.idle": "2022-03-15T01:25:09.606655Z",
     "shell.execute_reply": "2022-03-15T01:25:09.607171Z",
     "shell.execute_reply.started": "2022-02-28T21:26:44.192205Z"
    },
    "papermill": {
     "duration": 4.166296,
     "end_time": "2022-03-15T01:25:09.607389",
     "exception": false,
     "start_time": "2022-03-15T01:25:05.441093",
     "status": "completed"
    },
    "tags": []
   },
   "outputs": [],
   "source": [
    "train_tfidf = tfidf_vect.fit_transform(df[:train.shape[0]]['cleaned_text'])\n",
    "test_tfidf = tfidf_vect.transform(df[train.shape[0]:]['cleaned_text'])\n"
   ]
  },
  {
   "cell_type": "code",
   "execution_count": 19,
   "id": "0a1b4167",
   "metadata": {
    "execution": {
     "iopub.execute_input": "2022-03-15T01:25:09.688893Z",
     "iopub.status.busy": "2022-03-15T01:25:09.688202Z",
     "iopub.status.idle": "2022-03-15T01:25:09.691898Z",
     "shell.execute_reply": "2022-03-15T01:25:09.692436Z",
     "shell.execute_reply.started": "2022-02-28T21:26:49.738901Z"
    },
    "papermill": {
     "duration": 0.048502,
     "end_time": "2022-03-15T01:25:09.692615",
     "exception": false,
     "start_time": "2022-03-15T01:25:09.644113",
     "status": "completed"
    },
    "tags": []
   },
   "outputs": [
    {
     "data": {
      "text/plain": [
       "['000',\n",
       " '1',\n",
       " '2',\n",
       " '2000',\n",
       " '2001',\n",
       " '25',\n",
       " '3',\n",
       " '4',\n",
       " '5',\n",
       " '6',\n",
       " '60',\n",
       " '7',\n",
       " 'a',\n",
       " 'ability',\n",
       " 'able',\n",
       " 'about',\n",
       " 'access',\n",
       " 'accident',\n",
       " 'accidents',\n",
       " 'according']"
      ]
     },
     "execution_count": 19,
     "metadata": {},
     "output_type": "execute_result"
    }
   ],
   "source": [
    "features = tfidf_vect.get_feature_names()\n",
    "features[:20]"
   ]
  },
  {
   "cell_type": "markdown",
   "id": "7dc7c2ea",
   "metadata": {
    "papermill": {
     "duration": 0.035876,
     "end_time": "2022-03-15T01:25:09.765550",
     "exception": false,
     "start_time": "2022-03-15T01:25:09.729674",
     "status": "completed"
    },
    "tags": []
   },
   "source": [
    "## Random Forest"
   ]
  },
  {
   "cell_type": "code",
   "execution_count": 20,
   "id": "d776d912",
   "metadata": {
    "execution": {
     "iopub.execute_input": "2022-03-15T01:25:09.843952Z",
     "iopub.status.busy": "2022-03-15T01:25:09.843275Z",
     "iopub.status.idle": "2022-03-15T01:25:09.845977Z",
     "shell.execute_reply": "2022-03-15T01:25:09.845469Z",
     "shell.execute_reply.started": "2022-02-28T21:26:53.041652Z"
    },
    "papermill": {
     "duration": 0.044342,
     "end_time": "2022-03-15T01:25:09.846125",
     "exception": false,
     "start_time": "2022-03-15T01:25:09.801783",
     "status": "completed"
    },
    "tags": []
   },
   "outputs": [],
   "source": [
    "#cv = KFold(n_splits=10, random_state=1, shuffle=True)\n",
    "rf_model = RandomForestClassifier(n_estimators = 10, criterion = 'entropy', random_state = 42)\n",
    "#scores = cross_val_score(rf_model, train_tfidf, train['discourse_type'], scoring='accuracy', cv=cv)"
   ]
  },
  {
   "cell_type": "code",
   "execution_count": 21,
   "id": "dad0863f",
   "metadata": {
    "execution": {
     "iopub.execute_input": "2022-03-15T01:25:09.922090Z",
     "iopub.status.busy": "2022-03-15T01:25:09.921359Z",
     "iopub.status.idle": "2022-03-15T01:25:09.925263Z",
     "shell.execute_reply": "2022-03-15T01:25:09.925705Z",
     "shell.execute_reply.started": "2022-02-28T21:26:54.640056Z"
    },
    "papermill": {
     "duration": 0.043832,
     "end_time": "2022-03-15T01:25:09.925910",
     "exception": false,
     "start_time": "2022-03-15T01:25:09.882078",
     "status": "completed"
    },
    "tags": []
   },
   "outputs": [],
   "source": [
    "#print('Accuracy: %.3f (%.3f)' % (np.mean(scores), np.std(scores)))"
   ]
  },
  {
   "cell_type": "code",
   "execution_count": 22,
   "id": "56f0395e",
   "metadata": {
    "execution": {
     "iopub.execute_input": "2022-03-15T01:25:10.001759Z",
     "iopub.status.busy": "2022-03-15T01:25:10.001141Z",
     "iopub.status.idle": "2022-03-15T01:26:53.833437Z",
     "shell.execute_reply": "2022-03-15T01:26:53.832553Z",
     "shell.execute_reply.started": "2022-02-28T21:26:59.238346Z"
    },
    "papermill": {
     "duration": 103.871838,
     "end_time": "2022-03-15T01:26:53.833671",
     "exception": false,
     "start_time": "2022-03-15T01:25:09.961833",
     "status": "completed"
    },
    "tags": []
   },
   "outputs": [
    {
     "name": "stdout",
     "output_type": "stream",
     "text": [
      "CPU times: user 1min 43s, sys: 144 ms, total: 1min 43s\n",
      "Wall time: 1min 43s\n"
     ]
    },
    {
     "data": {
      "text/plain": [
       "RandomForestClassifier(criterion='entropy', n_estimators=10, random_state=42)"
      ]
     },
     "execution_count": 22,
     "metadata": {},
     "output_type": "execute_result"
    }
   ],
   "source": [
    "%%time\n",
    "rf_model.fit(train_tfidf, train['discourse_type'])"
   ]
  },
  {
   "cell_type": "code",
   "execution_count": 23,
   "id": "fb5bea8d",
   "metadata": {
    "execution": {
     "iopub.execute_input": "2022-03-15T01:26:53.918448Z",
     "iopub.status.busy": "2022-03-15T01:26:53.917693Z",
     "iopub.status.idle": "2022-03-15T01:26:53.925887Z",
     "shell.execute_reply": "2022-03-15T01:26:53.926486Z",
     "shell.execute_reply.started": "2022-02-28T21:28:54.653526Z"
    },
    "papermill": {
     "duration": 0.053442,
     "end_time": "2022-03-15T01:26:53.926712",
     "exception": false,
     "start_time": "2022-03-15T01:26:53.873270",
     "status": "completed"
    },
    "tags": []
   },
   "outputs": [],
   "source": [
    "rf_pred = rf_model.predict(test_tfidf) "
   ]
  },
  {
   "cell_type": "markdown",
   "id": "2008499e",
   "metadata": {
    "papermill": {
     "duration": 0.039165,
     "end_time": "2022-03-15T01:26:54.006695",
     "exception": false,
     "start_time": "2022-03-15T01:26:53.967530",
     "status": "completed"
    },
    "tags": []
   },
   "source": [
    "## Submission"
   ]
  },
  {
   "cell_type": "code",
   "execution_count": 24,
   "id": "b805b593",
   "metadata": {
    "execution": {
     "iopub.execute_input": "2022-03-15T01:26:54.090426Z",
     "iopub.status.busy": "2022-03-15T01:26:54.089754Z",
     "iopub.status.idle": "2022-03-15T01:26:54.098419Z",
     "shell.execute_reply": "2022-03-15T01:26:54.099030Z",
     "shell.execute_reply.started": "2022-02-28T21:29:00.158535Z"
    },
    "papermill": {
     "duration": 0.051789,
     "end_time": "2022-03-15T01:26:54.099250",
     "exception": false,
     "start_time": "2022-03-15T01:26:54.047461",
     "status": "completed"
    },
    "tags": []
   },
   "outputs": [],
   "source": [
    "submission_df = pd.DataFrame()\n",
    "submission_df['id'] = df_test['id']\n",
    "submission_df['class'] = rf_pred# label of y_predict\n",
    "submission_df['predictionstring'] = df_test['predictionstring']\n"
   ]
  },
  {
   "cell_type": "code",
   "execution_count": 25,
   "id": "61d73dcc",
   "metadata": {
    "execution": {
     "iopub.execute_input": "2022-03-15T01:26:54.178612Z",
     "iopub.status.busy": "2022-03-15T01:26:54.177965Z",
     "iopub.status.idle": "2022-03-15T01:26:54.187945Z",
     "shell.execute_reply": "2022-03-15T01:26:54.188401Z",
     "shell.execute_reply.started": "2022-02-28T21:29:02.843739Z"
    },
    "papermill": {
     "duration": 0.051461,
     "end_time": "2022-03-15T01:26:54.188617",
     "exception": false,
     "start_time": "2022-03-15T01:26:54.137156",
     "status": "completed"
    },
    "tags": []
   },
   "outputs": [
    {
     "data": {
      "text/html": [
       "<div>\n",
       "<style scoped>\n",
       "    .dataframe tbody tr th:only-of-type {\n",
       "        vertical-align: middle;\n",
       "    }\n",
       "\n",
       "    .dataframe tbody tr th {\n",
       "        vertical-align: top;\n",
       "    }\n",
       "\n",
       "    .dataframe thead th {\n",
       "        text-align: right;\n",
       "    }\n",
       "</style>\n",
       "<table border=\"1\" class=\"dataframe\">\n",
       "  <thead>\n",
       "    <tr style=\"text-align: right;\">\n",
       "      <th></th>\n",
       "      <th>id</th>\n",
       "      <th>class</th>\n",
       "      <th>predictionstring</th>\n",
       "    </tr>\n",
       "  </thead>\n",
       "  <tbody>\n",
       "    <tr>\n",
       "      <th>0</th>\n",
       "      <td>0FB0700DAF44</td>\n",
       "      <td>Lead</td>\n",
       "      <td>0 1 2 3 4 5 6 7 8 9 10 11 12 13 14 15</td>\n",
       "    </tr>\n",
       "    <tr>\n",
       "      <th>1</th>\n",
       "      <td>0FB0700DAF44</td>\n",
       "      <td>Lead</td>\n",
       "      <td>16 17 18 19 20 21 22 23 24 25 26 27 28 29 30 3...</td>\n",
       "    </tr>\n",
       "    <tr>\n",
       "      <th>2</th>\n",
       "      <td>0FB0700DAF44</td>\n",
       "      <td>Evidence</td>\n",
       "      <td>41 42 43 44 45 46 47 48 49 50 51 52 53 54 55 5...</td>\n",
       "    </tr>\n",
       "    <tr>\n",
       "      <th>3</th>\n",
       "      <td>0FB0700DAF44</td>\n",
       "      <td>Claim</td>\n",
       "      <td>65 66 67 68 69 70 71 72 73 74 75 76 77 78 79 8...</td>\n",
       "    </tr>\n",
       "    <tr>\n",
       "      <th>4</th>\n",
       "      <td>0FB0700DAF44</td>\n",
       "      <td>Claim</td>\n",
       "      <td>84 85 86 87 88 89 90 91 92 93 94 95 96 97 98 9...</td>\n",
       "    </tr>\n",
       "  </tbody>\n",
       "</table>\n",
       "</div>"
      ],
      "text/plain": [
       "             id     class                                   predictionstring\n",
       "0  0FB0700DAF44      Lead              0 1 2 3 4 5 6 7 8 9 10 11 12 13 14 15\n",
       "1  0FB0700DAF44      Lead  16 17 18 19 20 21 22 23 24 25 26 27 28 29 30 3...\n",
       "2  0FB0700DAF44  Evidence  41 42 43 44 45 46 47 48 49 50 51 52 53 54 55 5...\n",
       "3  0FB0700DAF44     Claim  65 66 67 68 69 70 71 72 73 74 75 76 77 78 79 8...\n",
       "4  0FB0700DAF44     Claim  84 85 86 87 88 89 90 91 92 93 94 95 96 97 98 9..."
      ]
     },
     "execution_count": 25,
     "metadata": {},
     "output_type": "execute_result"
    }
   ],
   "source": [
    "submission_df.head()"
   ]
  },
  {
   "cell_type": "code",
   "execution_count": 26,
   "id": "84bb401b",
   "metadata": {
    "execution": {
     "iopub.execute_input": "2022-03-15T01:26:54.273828Z",
     "iopub.status.busy": "2022-03-15T01:26:54.272669Z",
     "iopub.status.idle": "2022-03-15T01:26:54.282391Z",
     "shell.execute_reply": "2022-03-15T01:26:54.283056Z",
     "shell.execute_reply.started": "2022-02-28T21:29:07.040637Z"
    },
    "papermill": {
     "duration": 0.054927,
     "end_time": "2022-03-15T01:26:54.283274",
     "exception": false,
     "start_time": "2022-03-15T01:26:54.228347",
     "status": "completed"
    },
    "tags": []
   },
   "outputs": [],
   "source": [
    "submission_df.to_csv('submission.csv', index=False)"
   ]
  },
  {
   "cell_type": "code",
   "execution_count": null,
   "id": "3e0c0b46",
   "metadata": {
    "papermill": {
     "duration": 0.03939,
     "end_time": "2022-03-15T01:26:54.362128",
     "exception": false,
     "start_time": "2022-03-15T01:26:54.322738",
     "status": "completed"
    },
    "tags": []
   },
   "outputs": [],
   "source": []
  }
 ],
 "metadata": {
  "kernelspec": {
   "display_name": "Python 3",
   "language": "python",
   "name": "python3"
  },
  "language_info": {
   "codemirror_mode": {
    "name": "ipython",
    "version": 3
   },
   "file_extension": ".py",
   "mimetype": "text/x-python",
   "name": "python",
   "nbconvert_exporter": "python",
   "pygments_lexer": "ipython3",
   "version": "3.7.12"
  },
  "papermill": {
   "default_parameters": {},
   "duration": 191.238489,
   "end_time": "2022-03-15T01:26:55.919656",
   "environment_variables": {},
   "exception": null,
   "input_path": "__notebook__.ipynb",
   "output_path": "__notebook__.ipynb",
   "parameters": {},
   "start_time": "2022-03-15T01:23:44.681167",
   "version": "2.3.3"
  }
 },
 "nbformat": 4,
 "nbformat_minor": 5
}
